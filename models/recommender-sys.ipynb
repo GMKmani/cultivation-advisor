{
 "cells": [
  {
   "cell_type": "markdown",
   "id": "7a1025b4",
   "metadata": {},
   "source": [
    "import warnings\n",
    "warnings.filterwarnings('ignore')"
   ]
  },
  {
   "cell_type": "code",
   "execution_count": 2,
   "id": "a50d9b42",
   "metadata": {},
   "outputs": [],
   "source": [
    "import pandas as pd\n",
    "import matplotlib.pyplot as plt\n",
    "import numpy as np\n",
    "from sklearn.model_selection import train_test_split\n",
    "import sklearn.metrics as metrics\n",
    "from sklearn.tree import DecisionTreeClassifier\n",
    "from sklearn.ensemble import RandomForestClassifier\n",
    "\n",
    "\n",
    "from sklearn.metrics import confusion_matrix"
   ]
  },
  {
   "cell_type": "code",
   "execution_count": 3,
   "id": "358b882d",
   "metadata": {},
   "outputs": [
    {
     "name": "stdout",
     "output_type": "stream",
     "text": [
      "^C\n",
      "Note: you may need to restart the kernel to use updated packages.\n"
     ]
    }
   ],
   "source": [
    "pip install seaborn"
   ]
  },
  {
   "cell_type": "code",
   "execution_count": 4,
   "id": "7e326f2b",
   "metadata": {},
   "outputs": [
    {
     "name": "stdout",
     "output_type": "stream",
     "text": [
      "Requirement already satisfied: seaborn in c:\\users\\manik\\appdata\\local\\programs\\python\\python310\\lib\\site-packages (0.12.1)\n",
      "Requirement already satisfied: numpy>=1.17 in c:\\users\\manik\\appdata\\local\\programs\\python\\python310\\lib\\site-packages (from seaborn) (1.23.2)\n",
      "Requirement already satisfied: pandas>=0.25 in c:\\users\\manik\\appdata\\local\\programs\\python\\python310\\lib\\site-packages (from seaborn) (1.5.2)\n",
      "Requirement already satisfied: matplotlib!=3.6.1,>=3.1 in c:\\users\\manik\\appdata\\local\\programs\\python\\python310\\lib\\site-packages (from seaborn) (3.6.0)\n",
      "Requirement already satisfied: kiwisolver>=1.0.1 in c:\\users\\manik\\appdata\\local\\programs\\python\\python310\\lib\\site-packages (from matplotlib!=3.6.1,>=3.1->seaborn) (1.4.4)\n",
      "Requirement already satisfied: cycler>=0.10 in c:\\users\\manik\\appdata\\local\\programs\\python\\python310\\lib\\site-packages (from matplotlib!=3.6.1,>=3.1->seaborn) (0.11.0)\n",
      "Requirement already satisfied: pyparsing>=2.2.1 in c:\\users\\manik\\appdata\\local\\programs\\python\\python310\\lib\\site-packages (from matplotlib!=3.6.1,>=3.1->seaborn) (3.0.9)\n",
      "Requirement already satisfied: contourpy>=1.0.1 in c:\\users\\manik\\appdata\\local\\programs\\python\\python310\\lib\\site-packages (from matplotlib!=3.6.1,>=3.1->seaborn) (1.0.5)\n",
      "Requirement already satisfied: packaging>=20.0 in c:\\users\\manik\\appdata\\roaming\\python\\python310\\site-packages (from matplotlib!=3.6.1,>=3.1->seaborn) (22.0)\n",
      "Requirement already satisfied: fonttools>=4.22.0 in c:\\users\\manik\\appdata\\local\\programs\\python\\python310\\lib\\site-packages (from matplotlib!=3.6.1,>=3.1->seaborn) (4.37.3)\n",
      "Requirement already satisfied: pillow>=6.2.0 in c:\\users\\manik\\appdata\\local\\programs\\python\\python310\\lib\\site-packages (from matplotlib!=3.6.1,>=3.1->seaborn) (9.2.0)\n",
      "Requirement already satisfied: python-dateutil>=2.7 in c:\\users\\manik\\appdata\\roaming\\python\\python310\\site-packages (from matplotlib!=3.6.1,>=3.1->seaborn) (2.8.2)\n",
      "Requirement already satisfied: pytz>=2020.1 in c:\\users\\manik\\appdata\\local\\programs\\python\\python310\\lib\\site-packages (from pandas>=0.25->seaborn) (2022.2.1)\n",
      "Requirement already satisfied: six>=1.5 in c:\\users\\manik\\appdata\\roaming\\python\\python310\\site-packages (from python-dateutil>=2.7->matplotlib!=3.6.1,>=3.1->seaborn) (1.16.0)\n"
     ]
    },
    {
     "name": "stderr",
     "output_type": "stream",
     "text": [
      "WARNING: There was an error checking the latest version of pip.\n"
     ]
    }
   ],
   "source": [
    "PATH = 'C:/Users/manik/OneDrive/Desktop/datasets/cr.csv'\n",
    "MODELS = './recommender-models/'\n",
    "data = pd.read_csv(PATH)"
   ]
  },
  {
   "cell_type": "markdown",
   "id": "3a9ba261",
   "metadata": {},
   "source": [
    "## Data Analysis"
   ]
  },
  {
   "cell_type": "code",
   "execution_count": 5,
   "id": "a4c068ea",
   "metadata": {
    "scrolled": false
   },
   "outputs": [
    {
     "data": {
      "text/html": [
       "<div>\n",
       "<style scoped>\n",
       "    .dataframe tbody tr th:only-of-type {\n",
       "        vertical-align: middle;\n",
       "    }\n",
       "\n",
       "    .dataframe tbody tr th {\n",
       "        vertical-align: top;\n",
       "    }\n",
       "\n",
       "    .dataframe thead th {\n",
       "        text-align: right;\n",
       "    }\n",
       "</style>\n",
       "<table border=\"1\" class=\"dataframe\">\n",
       "  <thead>\n",
       "    <tr style=\"text-align: right;\">\n",
       "      <th></th>\n",
       "      <th>N</th>\n",
       "      <th>P</th>\n",
       "      <th>K</th>\n",
       "      <th>temperature</th>\n",
       "      <th>humidity</th>\n",
       "      <th>ph</th>\n",
       "      <th>rainfall</th>\n",
       "      <th>label</th>\n",
       "    </tr>\n",
       "  </thead>\n",
       "  <tbody>\n",
       "    <tr>\n",
       "      <th>0</th>\n",
       "      <td>90</td>\n",
       "      <td>42</td>\n",
       "      <td>43</td>\n",
       "      <td>20.879744</td>\n",
       "      <td>82.002744</td>\n",
       "      <td>6.502985</td>\n",
       "      <td>202.935536</td>\n",
       "      <td>rice</td>\n",
       "    </tr>\n",
       "    <tr>\n",
       "      <th>1</th>\n",
       "      <td>85</td>\n",
       "      <td>58</td>\n",
       "      <td>41</td>\n",
       "      <td>21.770462</td>\n",
       "      <td>80.319644</td>\n",
       "      <td>7.038096</td>\n",
       "      <td>226.655537</td>\n",
       "      <td>rice</td>\n",
       "    </tr>\n",
       "    <tr>\n",
       "      <th>2</th>\n",
       "      <td>60</td>\n",
       "      <td>55</td>\n",
       "      <td>44</td>\n",
       "      <td>23.004459</td>\n",
       "      <td>82.320763</td>\n",
       "      <td>7.840207</td>\n",
       "      <td>263.964248</td>\n",
       "      <td>rice</td>\n",
       "    </tr>\n",
       "    <tr>\n",
       "      <th>3</th>\n",
       "      <td>74</td>\n",
       "      <td>35</td>\n",
       "      <td>40</td>\n",
       "      <td>26.491096</td>\n",
       "      <td>80.158363</td>\n",
       "      <td>6.980401</td>\n",
       "      <td>242.864034</td>\n",
       "      <td>rice</td>\n",
       "    </tr>\n",
       "    <tr>\n",
       "      <th>4</th>\n",
       "      <td>78</td>\n",
       "      <td>42</td>\n",
       "      <td>42</td>\n",
       "      <td>20.130175</td>\n",
       "      <td>81.604873</td>\n",
       "      <td>7.628473</td>\n",
       "      <td>262.717340</td>\n",
       "      <td>rice</td>\n",
       "    </tr>\n",
       "  </tbody>\n",
       "</table>\n",
       "</div>"
      ],
      "text/plain": [
       "    N   P   K  temperature   humidity        ph    rainfall label\n",
       "0  90  42  43    20.879744  82.002744  6.502985  202.935536  rice\n",
       "1  85  58  41    21.770462  80.319644  7.038096  226.655537  rice\n",
       "2  60  55  44    23.004459  82.320763  7.840207  263.964248  rice\n",
       "3  74  35  40    26.491096  80.158363  6.980401  242.864034  rice\n",
       "4  78  42  42    20.130175  81.604873  7.628473  262.717340  rice"
      ]
     },
     "execution_count": 5,
     "metadata": {},
     "output_type": "execute_result"
    }
   ],
   "source": [
    "data.head()"
   ]
  },
  {
   "cell_type": "markdown",
   "id": "3fbc9c92",
   "metadata": {},
   "source": [
    "This dataset consists of **2200** rows in total.\n",
    "\n",
    "**Each row has 8 columns representing Nitrogen, Phosphorous, Potassium, Temperature, Humidity, PH, Rainfall and Label**\n",
    "\n",
    "**NPK(Nitrogen, Phosphorous and Potassium)** values represent the NPK values in the soil.\n",
    "**Temperature**, **humidity** and **rainfall** are the average values of the sorroundings environment respectively.\n",
    "**PH** is the PH value present in the soil.\n",
    "**Label** is the value of the type of crop which is suitable to be grown in the above given variable conditions. **Label is the value we will be predicting**\n"
   ]
  },
  {
   "cell_type": "code",
   "execution_count": 6,
   "id": "919c9777",
   "metadata": {},
   "outputs": [
    {
     "name": "stdout",
     "output_type": "stream",
     "text": [
      "<class 'pandas.core.frame.DataFrame'>\n",
      "RangeIndex: 2200 entries, 0 to 2199\n",
      "Data columns (total 8 columns):\n",
      " #   Column       Non-Null Count  Dtype  \n",
      "---  ------       --------------  -----  \n",
      " 0   N            2200 non-null   int64  \n",
      " 1   P            2200 non-null   int64  \n",
      " 2   K            2200 non-null   int64  \n",
      " 3   temperature  2200 non-null   float64\n",
      " 4   humidity     2200 non-null   float64\n",
      " 5   ph           2200 non-null   float64\n",
      " 6   rainfall     2200 non-null   float64\n",
      " 7   label        2200 non-null   object \n",
      "dtypes: float64(4), int64(3), object(1)\n",
      "memory usage: 137.6+ KB\n"
     ]
    }
   ],
   "source": [
    "data.info()"
   ]
  },
  {
   "cell_type": "code",
   "execution_count": 7,
   "id": "d0805ee8",
   "metadata": {},
   "outputs": [
    {
     "data": {
      "text/plain": [
       "Index(['N', 'P', 'K', 'temperature', 'humidity', 'ph', 'rainfall', 'label'], dtype='object')"
      ]
     },
     "execution_count": 7,
     "metadata": {},
     "output_type": "execute_result"
    }
   ],
   "source": [
    "data.columns"
   ]
  },
  {
   "cell_type": "code",
   "execution_count": 8,
   "id": "c09a99b3",
   "metadata": {},
   "outputs": [
    {
     "name": "stdout",
     "output_type": "stream",
     "text": [
      "['N', 'P', 'K', 'temperature', 'humidity', 'ph', 'rainfall', 'label']\n"
     ]
    }
   ],
   "source": [
    "print(data.columns.tolist())"
   ]
  },
  {
   "cell_type": "markdown",
   "id": "1a080131",
   "metadata": {},
   "source": [
    "The different types of labels are given below"
   ]
  },
  {
   "cell_type": "code",
   "execution_count": 9,
   "id": "3d3ccaa3",
   "metadata": {},
   "outputs": [
    {
     "data": {
      "text/plain": [
       "array(['rice', 'maize', 'chickpea', 'kidneybeans', 'pigeonpeas',\n",
       "       'mothbeans', 'mungbean', 'blackgram', 'lentil', 'pomegranate',\n",
       "       'banana', 'mango', 'grapes', 'watermelon', 'muskmelon', 'apple',\n",
       "       'orange', 'papaya', 'coconut', 'cotton', 'jute', 'coffee'],\n",
       "      dtype=object)"
      ]
     },
     "execution_count": 9,
     "metadata": {},
     "output_type": "execute_result"
    }
   ],
   "source": [
    "data['label'].unique()"
   ]
  },
  {
   "cell_type": "code",
   "execution_count": 10,
   "id": "79e02779",
   "metadata": {},
   "outputs": [
    {
     "data": {
      "text/plain": [
       "rice           100\n",
       "maize          100\n",
       "jute           100\n",
       "cotton         100\n",
       "coconut        100\n",
       "papaya         100\n",
       "orange         100\n",
       "apple          100\n",
       "muskmelon      100\n",
       "watermelon     100\n",
       "grapes         100\n",
       "mango          100\n",
       "banana         100\n",
       "pomegranate    100\n",
       "lentil         100\n",
       "blackgram      100\n",
       "mungbean       100\n",
       "mothbeans      100\n",
       "pigeonpeas     100\n",
       "kidneybeans    100\n",
       "chickpea       100\n",
       "coffee         100\n",
       "Name: label, dtype: int64"
      ]
     },
     "execution_count": 10,
     "metadata": {},
     "output_type": "execute_result"
    }
   ],
   "source": [
    "data['label'].value_counts()"
   ]
  },
  {
   "cell_type": "markdown",
   "id": "3d6e3a96",
   "metadata": {},
   "source": [
    "## Seperating features and output labels and creating training and test data "
   ]
  },
  {
   "cell_type": "code",
   "execution_count": 11,
   "id": "d447fa01",
   "metadata": {},
   "outputs": [],
   "source": [
    "features = data[['N', 'P', 'K', 'temperature', 'humidity', 'ph', 'rainfall']]\n",
    "labels = data['label']\n"
   ]
  },
  {
   "cell_type": "code",
   "execution_count": 12,
   "id": "91acdbfd",
   "metadata": {},
   "outputs": [],
   "source": [
    "# Splitting into the training and test dataset\n",
    "\n",
    "# Train:Test = 4:1\n",
    "\n",
    "X_train, X_test, Y_train, Y_test = train_test_split(features, labels, test_size=0.2, random_state=42)\n",
    "from sklearn.preprocessing import StandardScaler    \n",
    "st_x= StandardScaler()    \n",
    "x_train= st_x.fit_transform(X_train)    \n",
    "x_test= st_x.transform(X_test)\n",
    "\n"
   ]
  },
  {
   "cell_type": "code",
   "execution_count": 13,
   "id": "3cae0fe5",
   "metadata": {},
   "outputs": [],
   "source": [
    "acc = []\n",
    "models_list = []"
   ]
  },
  {
   "cell_type": "markdown",
   "id": "72313931",
   "metadata": {},
   "source": [
    "### Logistic Regression"
   ]
  },
  {
   "cell_type": "code",
   "execution_count": 67,
   "id": "b62efa81",
   "metadata": {},
   "outputs": [
    {
     "name": "stdout",
     "output_type": "stream",
     "text": [
      "1334    watermelon\n",
      "1761        papaya\n",
      "1735        papaya\n",
      "1576         apple\n",
      "Name: label, dtype: object\n"
     ]
    },
    {
     "name": "stderr",
     "output_type": "stream",
     "text": [
      "c:\\Users\\manik\\AppData\\Local\\Programs\\Python\\Python310\\lib\\site-packages\\sklearn\\linear_model\\_logistic.py:444: ConvergenceWarning: lbfgs failed to converge (status=1):\n",
      "STOP: TOTAL NO. of ITERATIONS REACHED LIMIT.\n",
      "\n",
      "Increase the number of iterations (max_iter) or scale the data as shown in:\n",
      "    https://scikit-learn.org/stable/modules/preprocessing.html\n",
      "Please also refer to the documentation for alternative solver options:\n",
      "    https://scikit-learn.org/stable/modules/linear_model.html#logistic-regression\n",
      "  n_iter_i = _check_optimize_result(\n",
      "C:\\Users\\manik\\AppData\\Local\\Temp\\ipykernel_40424\\2023319443.py:10: FutureWarning: The behavior of `series[i:j]` with an integer-dtype index is deprecated. In a future version, this will be treated as *label-based* indexing, consistent with e.g. `series[i]` lookups. To retain the old behavior, use `series.iloc[i:j]`. To get the future behavior, use `series.loc[i:j]`.\n",
      "  print(Y_test[1:5])\n"
     ]
    }
   ],
   "source": [
    "LogReg = LogisticRegression(random_state=42).fit(X_train, Y_train)\n",
    "\n",
    "predicted_values = LogReg.predict(X_test)\n",
    "\n",
    "accuracy = metrics.accuracy_score(Y_test, predicted_values)\n",
    "# print(predicted_values)\n",
    "acc.append(accuracy)\n",
    "models_list.append(\"Logistic Regression\")\n",
    "print(predicted_values[1:5])\n",
    "\n"
   ]
  },
  {
   "cell_type": "code",
   "execution_count": 16,
   "id": "e00475d8",
   "metadata": {},
   "outputs": [
    {
     "name": "stdout",
     "output_type": "stream",
     "text": [
      "Logistic Regression accuracy:  0.9454545454545454\n"
     ]
    }
   ],
   "source": [
    "print(\"Logistic Regression accuracy: \", accuracy)"
   ]
  },
  {
   "cell_type": "code",
   "execution_count": 17,
   "id": "253702c6",
   "metadata": {
    "scrolled": false
   },
   "outputs": [
    {
     "name": "stdout",
     "output_type": "stream",
     "text": [
      "              precision    recall  f1-score   support\n",
      "\n",
      "       apple       1.00      1.00      1.00        23\n",
      "      banana       0.95      1.00      0.98        21\n",
      "   blackgram       0.83      0.75      0.79        20\n",
      "    chickpea       1.00      1.00      1.00        26\n",
      "     coconut       1.00      1.00      1.00        27\n",
      "      coffee       0.94      1.00      0.97        17\n",
      "      cotton       0.80      0.94      0.86        17\n",
      "      grapes       1.00      1.00      1.00        14\n",
      "        jute       0.91      0.87      0.89        23\n",
      " kidneybeans       1.00      0.95      0.97        20\n",
      "      lentil       0.83      0.91      0.87        11\n",
      "       maize       0.94      0.76      0.84        21\n",
      "       mango       0.95      1.00      0.97        19\n",
      "   mothbeans       0.85      0.92      0.88        24\n",
      "    mungbean       0.95      1.00      0.97        19\n",
      "   muskmelon       1.00      1.00      1.00        17\n",
      "      orange       1.00      1.00      1.00        14\n",
      "      papaya       0.95      0.91      0.93        23\n",
      "  pigeonpeas       0.95      0.91      0.93        23\n",
      " pomegranate       1.00      1.00      1.00        23\n",
      "        rice       0.89      0.89      0.89        19\n",
      "  watermelon       1.00      1.00      1.00        19\n",
      "\n",
      "    accuracy                           0.95       440\n",
      "   macro avg       0.94      0.95      0.94       440\n",
      "weighted avg       0.95      0.95      0.94       440\n",
      "\n"
     ]
    }
   ],
   "source": [
    "print(metrics.classification_report(Y_test, predicted_values))"
   ]
  },
  {
   "cell_type": "code",
   "execution_count": 18,
   "id": "e46479ca",
   "metadata": {},
   "outputs": [],
   "source": [
    "filename = 'LogisticRegresion.pkl'\n",
    "pickle.dump(LogReg, open(MODELS + filename, 'wb'))"
   ]
  },
  {
   "cell_type": "markdown",
   "id": "db43ba7c",
   "metadata": {},
   "source": [
    "### Decision Tree"
   ]
  },
  {
   "cell_type": "code",
   "execution_count": 15,
   "id": "973d36a9",
   "metadata": {},
   "outputs": [],
   "source": [
    "DT = DecisionTreeClassifier(criterion=\"entropy\",random_state=2,max_depth=1000).fit(X_train, Y_train)\n",
    "\n",
    "predicted_values = DT.predict(X_test)\n",
    "\n",
    "accuracy = metrics.accuracy_score(Y_test, predicted_values)\n",
    "\n",
    "acc.append(accuracy)\n",
    "models_list.append(\"Decision Tree\")"
   ]
  },
  {
   "cell_type": "code",
   "execution_count": 20,
   "id": "1e9997df",
   "metadata": {},
   "outputs": [
    {
     "name": "stdout",
     "output_type": "stream",
     "text": [
      "Decision Tree accuracy:  0.9772727272727273\n"
     ]
    }
   ],
   "source": [
    "print(\"Decision Tree accuracy: \", accuracy)"
   ]
  },
  {
   "cell_type": "code",
   "execution_count": 21,
   "id": "0237d704",
   "metadata": {
    "scrolled": false
   },
   "outputs": [
    {
     "name": "stdout",
     "output_type": "stream",
     "text": [
      "              precision    recall  f1-score   support\n",
      "\n",
      "       apple       1.00      1.00      1.00        23\n",
      "      banana       1.00      1.00      1.00        21\n",
      "   blackgram       1.00      1.00      1.00        20\n",
      "    chickpea       1.00      1.00      1.00        26\n",
      "     coconut       1.00      0.96      0.98        27\n",
      "      coffee       1.00      1.00      1.00        17\n",
      "      cotton       1.00      1.00      1.00        17\n",
      "      grapes       1.00      1.00      1.00        14\n",
      "        jute       0.81      0.91      0.86        23\n",
      " kidneybeans       1.00      0.95      0.97        20\n",
      "      lentil       0.92      1.00      0.96        11\n",
      "       maize       1.00      1.00      1.00        21\n",
      "       mango       1.00      1.00      1.00        19\n",
      "   mothbeans       0.96      0.96      0.96        24\n",
      "    mungbean       1.00      1.00      1.00        19\n",
      "   muskmelon       1.00      1.00      1.00        17\n",
      "      orange       1.00      1.00      1.00        14\n",
      "      papaya       1.00      1.00      1.00        23\n",
      "  pigeonpeas       1.00      1.00      1.00        23\n",
      " pomegranate       0.96      1.00      0.98        23\n",
      "        rice       0.88      0.74      0.80        19\n",
      "  watermelon       1.00      1.00      1.00        19\n",
      "\n",
      "    accuracy                           0.98       440\n",
      "   macro avg       0.98      0.98      0.98       440\n",
      "weighted avg       0.98      0.98      0.98       440\n",
      "\n"
     ]
    }
   ],
   "source": [
    "print(metrics.classification_report(Y_test, predicted_values))"
   ]
  },
  {
   "cell_type": "code",
   "execution_count": 22,
   "id": "99ea6ec5",
   "metadata": {},
   "outputs": [],
   "source": [
    "filename = 'DecisionTree.pkl'\n",
    "pickle.dump(LogReg, open(MODELS + filename, 'wb'))"
   ]
  },
  {
   "cell_type": "markdown",
   "id": "df08d8cd",
   "metadata": {},
   "source": [
    "### Support Vector Machine SVM"
   ]
  },
  {
   "cell_type": "code",
   "execution_count": 23,
   "id": "100d316e",
   "metadata": {},
   "outputs": [],
   "source": [
    "SVM = SVC(gamma='auto').fit(X_train, Y_train)\n",
    "\n",
    "predicted_values = SVM.predict(X_test)\n",
    "\n",
    "accuracy = metrics.accuracy_score(Y_test, predicted_values)\n",
    "\n",
    "acc.append(accuracy)\n",
    "models_list.append(\"Support Vector Machine (SVM)\")"
   ]
  },
  {
   "cell_type": "code",
   "execution_count": 24,
   "id": "5624947f",
   "metadata": {
    "scrolled": true
   },
   "outputs": [
    {
     "name": "stdout",
     "output_type": "stream",
     "text": [
      "SVM accuracy:  0.09090909090909091\n"
     ]
    }
   ],
   "source": [
    "print(\"SVM accuracy: \", accuracy)"
   ]
  },
  {
   "cell_type": "code",
   "execution_count": 25,
   "id": "f54eb064",
   "metadata": {},
   "outputs": [
    {
     "name": "stdout",
     "output_type": "stream",
     "text": [
      "              precision    recall  f1-score   support\n",
      "\n",
      "       apple       1.00      0.13      0.23        23\n",
      "      banana       1.00      0.05      0.09        21\n",
      "   blackgram       1.00      0.05      0.10        20\n",
      "    chickpea       0.00      0.00      0.00        26\n",
      "     coconut       1.00      0.07      0.14        27\n",
      "      coffee       1.00      0.06      0.11        17\n",
      "      cotton       1.00      0.18      0.30        17\n",
      "      grapes       1.00      0.07      0.13        14\n",
      "        jute       1.00      0.04      0.08        23\n",
      " kidneybeans       0.00      0.00      0.00        20\n",
      "      lentil       0.03      1.00      0.05        11\n",
      "       maize       0.00      0.00      0.00        21\n",
      "       mango       1.00      0.11      0.19        19\n",
      "   mothbeans       0.00      0.00      0.00        24\n",
      "    mungbean       1.00      0.11      0.19        19\n",
      "   muskmelon       1.00      0.59      0.74        17\n",
      "      orange       0.00      0.00      0.00        14\n",
      "      papaya       0.00      0.00      0.00        23\n",
      "  pigeonpeas       0.00      0.00      0.00        23\n",
      " pomegranate       1.00      0.04      0.08        23\n",
      "        rice       0.00      0.00      0.00        19\n",
      "  watermelon       1.00      0.05      0.10        19\n",
      "\n",
      "    accuracy                           0.09       440\n",
      "   macro avg       0.59      0.12      0.12       440\n",
      "weighted avg       0.59      0.09      0.11       440\n",
      "\n"
     ]
    },
    {
     "name": "stderr",
     "output_type": "stream",
     "text": [
      "c:\\Users\\manik\\AppData\\Local\\Programs\\Python\\Python310\\lib\\site-packages\\sklearn\\metrics\\_classification.py:1334: UndefinedMetricWarning: Precision and F-score are ill-defined and being set to 0.0 in labels with no predicted samples. Use `zero_division` parameter to control this behavior.\n",
      "  _warn_prf(average, modifier, msg_start, len(result))\n",
      "c:\\Users\\manik\\AppData\\Local\\Programs\\Python\\Python310\\lib\\site-packages\\sklearn\\metrics\\_classification.py:1334: UndefinedMetricWarning: Precision and F-score are ill-defined and being set to 0.0 in labels with no predicted samples. Use `zero_division` parameter to control this behavior.\n",
      "  _warn_prf(average, modifier, msg_start, len(result))\n",
      "c:\\Users\\manik\\AppData\\Local\\Programs\\Python\\Python310\\lib\\site-packages\\sklearn\\metrics\\_classification.py:1334: UndefinedMetricWarning: Precision and F-score are ill-defined and being set to 0.0 in labels with no predicted samples. Use `zero_division` parameter to control this behavior.\n",
      "  _warn_prf(average, modifier, msg_start, len(result))\n"
     ]
    }
   ],
   "source": [
    "print(metrics.classification_report(Y_test, predicted_values))"
   ]
  },
  {
   "cell_type": "code",
   "execution_count": 26,
   "id": "b321cc81",
   "metadata": {},
   "outputs": [],
   "source": [
    "filename = 'SVM.pkl'\n",
    "pickle.dump(LogReg, open(MODELS + filename, 'wb'))"
   ]
  },
  {
   "cell_type": "markdown",
   "id": "cc906f44",
   "metadata": {},
   "source": [
    "### Multi-Layer Perceptron"
   ]
  },
  {
   "cell_type": "code",
   "execution_count": 27,
   "id": "b885a98f",
   "metadata": {},
   "outputs": [
    {
     "name": "stdout",
     "output_type": "stream",
     "text": [
      "['muskmelon' 'watermelon' 'papaya' 'papaya' 'apple' 'mango' 'apple'\n",
      " 'mothbeans' 'mungbean' 'lentil' 'blackgram' 'coconut' 'pomegranate'\n",
      " 'jute' 'coconut' 'pomegranate' 'apple' 'cotton' 'papaya' 'muskmelon'\n",
      " 'coffee' 'papaya' 'orange' 'papaya' 'chickpea' 'jute' 'mungbean' 'orange'\n",
      " 'pigeonpeas' 'rice' 'pomegranate' 'mothbeans' 'jute' 'lentil' 'jute'\n",
      " 'blackgram' 'jute' 'chickpea' 'chickpea' 'kidneybeans' 'papaya' 'mango'\n",
      " 'blackgram' 'maize' 'mungbean' 'maize' 'pigeonpeas' 'coconut' 'muskmelon'\n",
      " 'maize' 'blackgram' 'coffee' 'grapes' 'mungbean' 'coffee' 'kidneybeans'\n",
      " 'cotton' 'apple' 'banana' 'blackgram' 'watermelon' 'coconut' 'lentil'\n",
      " 'orange' 'papaya' 'mothbeans' 'orange' 'rice' 'muskmelon' 'pigeonpeas'\n",
      " 'muskmelon' 'coconut' 'jute' 'banana' 'lentil' 'papaya' 'banana' 'cotton'\n",
      " 'watermelon' 'orange' 'coffee' 'chickpea' 'rice' 'mothbeans' 'orange'\n",
      " 'mango' 'coffee' 'mothbeans' 'blackgram' 'pomegranate' 'maize'\n",
      " 'mothbeans' 'cotton' 'papaya' 'pigeonpeas' 'mothbeans' 'kidneybeans'\n",
      " 'coffee' 'blackgram' 'lentil' 'coconut' 'jute' 'orange' 'muskmelon'\n",
      " 'watermelon' 'kidneybeans' 'watermelon' 'banana' 'pigeonpeas' 'mothbeans'\n",
      " 'banana' 'jute' 'cotton' 'pomegranate' 'pigeonpeas' 'chickpea' 'maize'\n",
      " 'coconut' 'pomegranate' 'rice' 'pigeonpeas' 'grapes' 'blackgram'\n",
      " 'coconut' 'chickpea' 'mothbeans' 'coconut' 'maize' 'banana' 'mothbeans'\n",
      " 'banana' 'kidneybeans' 'pomegranate' 'chickpea' 'coconut' 'orange'\n",
      " 'pigeonpeas' 'banana' 'banana' 'apple' 'kidneybeans' 'muskmelon'\n",
      " 'mungbean' 'mothbeans' 'coconut' 'maize' 'apple' 'coconut' 'kidneybeans'\n",
      " 'mothbeans' 'mungbean' 'lentil' 'watermelon' 'mungbean' 'mothbeans'\n",
      " 'pigeonpeas' 'pigeonpeas' 'kidneybeans' 'maize' 'jute' 'chickpea' 'apple'\n",
      " 'orange' 'cotton' 'rice' 'coconut' 'grapes' 'lentil' 'watermelon'\n",
      " 'grapes' 'grapes' 'blackgram' 'pomegranate' 'chickpea' 'coconut' 'maize'\n",
      " 'lentil' 'grapes' 'watermelon' 'jute' 'coffee' 'coffee' 'kidneybeans'\n",
      " 'jute' 'mothbeans' 'kidneybeans' 'banana' 'pigeonpeas' 'coconut' 'papaya'\n",
      " 'papaya' 'mungbean' 'mango' 'pomegranate' 'watermelon' 'kidneybeans'\n",
      " 'maize' 'apple' 'blackgram' 'chickpea' 'grapes' 'grapes' 'banana'\n",
      " 'cotton' 'rice' 'pomegranate' 'mungbean' 'banana' 'jute' 'mungbean'\n",
      " 'maize' 'chickpea' 'chickpea' 'chickpea' 'apple' 'rice' 'kidneybeans'\n",
      " 'papaya' 'coffee' 'blackgram' 'kidneybeans' 'mango' 'mango' 'coconut'\n",
      " 'papaya' 'apple' 'chickpea' 'pomegranate' 'chickpea' 'muskmelon' 'apple'\n",
      " 'muskmelon' 'muskmelon' 'mango' 'mango' 'cotton' 'coconut' 'pomegranate'\n",
      " 'rice' 'muskmelon' 'coffee' 'papaya' 'lentil' 'maize' 'mango' 'muskmelon'\n",
      " 'pigeonpeas' 'mungbean' 'coffee' 'grapes' 'coconut' 'cotton' 'pigeonpeas'\n",
      " 'rice' 'apple' 'pomegranate' 'coffee' 'chickpea' 'cotton' 'jute' 'mango'\n",
      " 'banana' 'papaya' 'apple' 'chickpea' 'rice' 'pigeonpeas' 'mothbeans'\n",
      " 'mungbean' 'jute' 'pomegranate' 'grapes' 'mothbeans' 'papaya' 'cotton'\n",
      " 'coconut' 'cotton' 'chickpea' 'banana' 'coffee' 'coconut' 'coffee'\n",
      " 'mango' 'muskmelon' 'apple' 'banana' 'pigeonpeas' 'blackgram' 'orange'\n",
      " 'chickpea' 'watermelon' 'banana' 'apple' 'chickpea' 'coffee' 'pigeonpeas'\n",
      " 'orange' 'apple' 'coconut' 'papaya' 'watermelon' 'mothbeans' 'papaya'\n",
      " 'chickpea' 'pomegranate' 'chickpea' 'papaya' 'mothbeans' 'apple'\n",
      " 'pomegranate' 'chickpea' 'mango' 'chickpea' 'pomegranate' 'watermelon'\n",
      " 'kidneybeans' 'mungbean' 'muskmelon' 'watermelon' 'kidneybeans'\n",
      " 'muskmelon' 'mango' 'jute' 'blackgram' 'chickpea' 'banana' 'lentil'\n",
      " 'pigeonpeas' 'papaya' 'pigeonpeas' 'mungbean' 'coconut' 'cotton' 'grapes'\n",
      " 'apple' 'lentil' 'banana' 'jute' 'apple' 'pomegranate' 'apple' 'mungbean'\n",
      " 'muskmelon' 'coffee' 'coffee' 'pigeonpeas' 'jute' 'kidneybeans' 'banana'\n",
      " 'maize' 'jute' 'cotton' 'pigeonpeas' 'mango' 'kidneybeans' 'pomegranate'\n",
      " 'watermelon' 'blackgram' 'maize' 'rice' 'mothbeans' 'kidneybeans' 'mango'\n",
      " 'cotton' 'papaya' 'mothbeans' 'cotton' 'mungbean' 'orange' 'rice'\n",
      " 'blackgram' 'mungbean' 'coffee' 'banana' 'pigeonpeas' 'papaya' 'apple'\n",
      " 'pomegranate' 'maize' 'mango' 'coconut' 'apple' 'lentil' 'jute'\n",
      " 'mothbeans' 'lentil' 'coconut' 'blackgram' 'jute' 'mungbean' 'cotton'\n",
      " 'watermelon' 'apple' 'grapes' 'coconut' 'grapes' 'watermelon' 'rice'\n",
      " 'mango' 'mango' 'coffee' 'pomegranate' 'banana' 'grapes' 'jute' 'orange'\n",
      " 'maize' 'mango' 'papaya' 'muskmelon' 'mothbeans' 'jute' 'chickpea'\n",
      " 'mothbeans' 'pomegranate' 'watermelon' 'mothbeans' 'cotton' 'papaya'\n",
      " 'watermelon' 'mothbeans' 'rice' 'coconut' 'mothbeans' 'mothbeans' 'maize'\n",
      " 'rice' 'maize' 'coconut' 'orange' 'pomegranate' 'kidneybeans'\n",
      " 'watermelon' 'mungbean' 'blackgram' 'rice' 'rice' 'cotton' 'cotton'\n",
      " 'pigeonpeas']\n"
     ]
    },
    {
     "name": "stderr",
     "output_type": "stream",
     "text": [
      "c:\\Users\\manik\\AppData\\Local\\Programs\\Python\\Python310\\lib\\site-packages\\sklearn\\neural_network\\_multilayer_perceptron.py:559: ConvergenceWarning: lbfgs failed to converge (status=1):\n",
      "STOP: TOTAL NO. of ITERATIONS REACHED LIMIT.\n",
      "\n",
      "Increase the number of iterations (max_iter) or scale the data as shown in:\n",
      "    https://scikit-learn.org/stable/modules/preprocessing.html\n",
      "  self.n_iter_ = _check_optimize_result(\"lbfgs\", opt_res, self.max_iter)\n"
     ]
    }
   ],
   "source": [
    "clf = MLPClassifier(solver='lbfgs', alpha=1e-5, hidden_layer_sizes=(1000, 600, 400, 200, 100, 50), random_state=1)\n",
    "\n",
    "clf.fit(X_train, Y_train)\n",
    "\n",
    "predicted_values = clf.predict(X_test)\n",
    "\n",
    "accuracy = metrics.accuracy_score(Y_test, predicted_values)\n",
    "print(predicted_values)"
   ]
  },
  {
   "cell_type": "code",
   "execution_count": 28,
   "id": "3eef6b67",
   "metadata": {},
   "outputs": [],
   "source": [
    "acc.append(accuracy)\n",
    "models_list.append(\"Multi-Layer Perceptron\")"
   ]
  },
  {
   "cell_type": "code",
   "execution_count": 29,
   "id": "5a44d462",
   "metadata": {},
   "outputs": [
    {
     "name": "stdout",
     "output_type": "stream",
     "text": [
      "SVM accuracy:  0.9568181818181818\n"
     ]
    }
   ],
   "source": [
    "print(\"SVM accuracy: \", accuracy)"
   ]
  },
  {
   "cell_type": "code",
   "execution_count": 30,
   "id": "5adf88e3",
   "metadata": {},
   "outputs": [
    {
     "name": "stdout",
     "output_type": "stream",
     "text": [
      "              precision    recall  f1-score   support\n",
      "\n",
      "       apple       1.00      1.00      1.00        23\n",
      "      banana       1.00      1.00      1.00        21\n",
      "   blackgram       1.00      0.85      0.92        20\n",
      "    chickpea       1.00      1.00      1.00        26\n",
      "     coconut       1.00      1.00      1.00        27\n",
      "      coffee       0.89      1.00      0.94        17\n",
      "      cotton       0.80      0.94      0.86        17\n",
      "      grapes       1.00      1.00      1.00        14\n",
      "        jute       0.91      0.87      0.89        23\n",
      " kidneybeans       1.00      0.95      0.97        20\n",
      "      lentil       0.77      0.91      0.83        11\n",
      "       maize       0.94      0.81      0.87        21\n",
      "       mango       1.00      1.00      1.00        19\n",
      "   mothbeans       0.85      0.96      0.90        24\n",
      "    mungbean       1.00      1.00      1.00        19\n",
      "   muskmelon       1.00      1.00      1.00        17\n",
      "      orange       1.00      1.00      1.00        14\n",
      "      papaya       0.96      1.00      0.98        23\n",
      "  pigeonpeas       0.95      0.91      0.93        23\n",
      " pomegranate       1.00      1.00      1.00        23\n",
      "        rice       0.94      0.84      0.89        19\n",
      "  watermelon       1.00      1.00      1.00        19\n",
      "\n",
      "    accuracy                           0.96       440\n",
      "   macro avg       0.96      0.96      0.95       440\n",
      "weighted avg       0.96      0.96      0.96       440\n",
      "\n"
     ]
    }
   ],
   "source": [
    "print(metrics.classification_report(Y_test, predicted_values))"
   ]
  },
  {
   "cell_type": "code",
   "execution_count": 31,
   "id": "3c3e10e9",
   "metadata": {},
   "outputs": [],
   "source": [
    "filename = 'MLP.pkl'\n",
    "pickle.dump(LogReg, open(MODELS + filename, 'wb'))"
   ]
  },
  {
   "cell_type": "markdown",
   "id": "3e027b2b",
   "metadata": {},
   "source": [
    "### Random Forest"
   ]
  },
  {
   "cell_type": "code",
   "execution_count": 14,
   "id": "b6ecaed7",
   "metadata": {},
   "outputs": [
    {
     "name": "stdout",
     "output_type": "stream",
     "text": [
      "1451     muskmelon\n",
      "1334    watermelon\n",
      "1761        papaya\n",
      "1735        papaya\n",
      "1576         apple\n",
      "           ...    \n",
      "59            rice\n",
      "71            rice\n",
      "1908        cotton\n",
      "1958        cotton\n",
      "482     pigeonpeas\n",
      "Name: label, Length: 440, dtype: object\n"
     ]
    }
   ],
   "source": [
    "RF = RandomForestClassifier(n_estimators=20, random_state=0)\n",
    "RF.fit(X_train,Y_train)\n",
    "\n",
    "predicted_values = RF.predict(X_test)\n",
    "\n",
    "accuracy = metrics.accuracy_score(Y_test, predicted_values)\n",
    "\n",
    "acc.append(accuracy)\n",
    "models_list.append('Random Forest')\n",
    "print(Y_test)"
   ]
  },
  {
   "cell_type": "code",
   "execution_count": 33,
   "id": "51267372",
   "metadata": {},
   "outputs": [
    {
     "name": "stdout",
     "output_type": "stream",
     "text": [
      "RF's Accuracy is:  0.9931818181818182\n"
     ]
    }
   ],
   "source": [
    "print(\"RF's Accuracy is: \", accuracy)"
   ]
  },
  {
   "cell_type": "code",
   "execution_count": 34,
   "id": "8431084d",
   "metadata": {},
   "outputs": [
    {
     "name": "stdout",
     "output_type": "stream",
     "text": [
      "              precision    recall  f1-score   support\n",
      "\n",
      "       apple       1.00      1.00      1.00        23\n",
      "      banana       1.00      1.00      1.00        21\n",
      "   blackgram       1.00      1.00      1.00        20\n",
      "    chickpea       1.00      1.00      1.00        26\n",
      "     coconut       1.00      1.00      1.00        27\n",
      "      coffee       1.00      1.00      1.00        17\n",
      "      cotton       1.00      1.00      1.00        17\n",
      "      grapes       1.00      1.00      1.00        14\n",
      "        jute       0.92      1.00      0.96        23\n",
      " kidneybeans       1.00      1.00      1.00        20\n",
      "      lentil       0.92      1.00      0.96        11\n",
      "       maize       1.00      1.00      1.00        21\n",
      "       mango       1.00      1.00      1.00        19\n",
      "   mothbeans       1.00      0.96      0.98        24\n",
      "    mungbean       1.00      1.00      1.00        19\n",
      "   muskmelon       1.00      1.00      1.00        17\n",
      "      orange       1.00      1.00      1.00        14\n",
      "      papaya       1.00      1.00      1.00        23\n",
      "  pigeonpeas       1.00      1.00      1.00        23\n",
      " pomegranate       1.00      1.00      1.00        23\n",
      "        rice       1.00      0.89      0.94        19\n",
      "  watermelon       1.00      1.00      1.00        19\n",
      "\n",
      "    accuracy                           0.99       440\n",
      "   macro avg       0.99      0.99      0.99       440\n",
      "weighted avg       0.99      0.99      0.99       440\n",
      "\n"
     ]
    }
   ],
   "source": [
    "print(metrics.classification_report(Y_test,predicted_values))"
   ]
  },
  {
   "cell_type": "code",
   "execution_count": 17,
   "id": "61091919",
   "metadata": {},
   "outputs": [],
   "source": [
    "filename = 'RF.pkl'\n",
    "pickle.dump(RF, open(MODELS + filename, 'wb'))\n"
   ]
  },
  {
   "cell_type": "code",
   "execution_count": 16,
   "id": "edaf29cf",
   "metadata": {},
   "outputs": [
    {
     "data": {
      "text/plain": [
       "<AxesSubplot: title={'center': 'Accuracy Comparison'}, xlabel='Accuracy', ylabel='Algorithm'>"
      ]
     },
     "execution_count": 16,
     "metadata": {},
     "output_type": "execute_result"
    },
    {
     "data": {
      "image/png": "[encoded data removed]",
      "text/plain": [
       "<Figure size 1000x500 with 1 Axes>"
      ]
     },
     "metadata": {},
     "output_type": "display_data"
    }
   ],
   "source": [
    "plt.figure(figsize=[10,5],dpi = 100)\n",
    "plt.title('Accuracy Comparison')\n",
    "plt.xlabel('Accuracy')\n",
    "plt.ylabel('Algorithm')\n",
    "sns.barplot(x = acc,y = models_list,palette='twilight_shifted_r')"
   ]
  },
  {
   "cell_type": "code",
   "execution_count": 18,
   "id": "e42d63fc",
   "metadata": {},
   "outputs": [
    {
     "name": "stdout",
     "output_type": "stream",
     "text": [
      "Random Forest --> 0.9931818181818182\n",
      "Decision Tree --> 0.9772727272727273\n"
     ]
    }
   ],
   "source": [
    "accuracy_models = dict(zip(models_list, acc))\n",
    "for k, v in accuracy_models.items():\n",
    "    print (k, '-->', v)"
   ]
  },
  {
   "cell_type": "code",
   "execution_count": 19,
   "id": "b02030d4",
   "metadata": {},
   "outputs": [
    {
     "name": "stdout",
     "output_type": "stream",
     "text": [
      "[[23  0  0  0  0  0  0  0  0  0  0  0  0  0  0  0  0  0  0  0  0  0]\n",
      " [ 0 21  0  0  0  0  0  0  0  0  0  0  0  0  0  0  0  0  0  0  0  0]\n",
      " [ 0  0 20  0  0  0  0  0  0  0  0  0  0  0  0  0  0  0  0  0  0  0]\n",
      " [ 0  0  0 26  0  0  0  0  0  0  0  0  0  0  0  0  0  0  0  0  0  0]\n",
      " [ 0  0  0  0 26  0  0  0  0  0  0  0  0  0  0  0  0  0  0  1  0  0]\n",
      " [ 0  0  0  0  0 17  0  0  0  0  0  0  0  0  0  0  0  0  0  0  0  0]\n",
      " [ 0  0  0  0  0  0 17  0  0  0  0  0  0  0  0  0  0  0  0  0  0  0]\n",
      " [ 0  0  0  0  0  0  0 14  0  0  0  0  0  0  0  0  0  0  0  0  0  0]\n",
      " [ 0  0  0  0  0  0  0  0 21  0  0  0  0  0  0  0  0  0  0  0  2  0]\n",
      " [ 0  0  0  0  0  0  0  0  0 19  0  0  0  1  0  0  0  0  0  0  0  0]\n",
      " [ 0  0  0  0  0  0  0  0  0  0 11  0  0  0  0  0  0  0  0  0  0  0]\n",
      " [ 0  0  0  0  0  0  0  0  0  0  0 21  0  0  0  0  0  0  0  0  0  0]\n",
      " [ 0  0  0  0  0  0  0  0  0  0  0  0 19  0  0  0  0  0  0  0  0  0]\n",
      " [ 0  0  0  0  0  0  0  0  0  0  1  0  0 23  0  0  0  0  0  0  0  0]\n",
      " [ 0  0  0  0  0  0  0  0  0  0  0  0  0  0 19  0  0  0  0  0  0  0]\n",
      " [ 0  0  0  0  0  0  0  0  0  0  0  0  0  0  0 17  0  0  0  0  0  0]\n",
      " [ 0  0  0  0  0  0  0  0  0  0  0  0  0  0  0  0 14  0  0  0  0  0]\n",
      " [ 0  0  0  0  0  0  0  0  0  0  0  0  0  0  0  0  0 23  0  0  0  0]\n",
      " [ 0  0  0  0  0  0  0  0  0  0  0  0  0  0  0  0  0  0 23  0  0  0]\n",
      " [ 0  0  0  0  0  0  0  0  0  0  0  0  0  0  0  0  0  0  0 23  0  0]\n",
      " [ 0  0  0  0  0  0  0  0  5  0  0  0  0  0  0  0  0  0  0  0 14  0]\n",
      " [ 0  0  0  0  0  0  0  0  0  0  0  0  0  0  0  0  0  0  0  0  0 19]]\n"
     ]
    }
   ],
   "source": [
    "print(confusion_matrix(Y_test, predicted_values))"
   ]
  }
 ],
 "metadata": {
  "kernelspec": {
   "display_name": "Python 3",
   "language": "python",
   "name": "python3"
  },
  "language_info": {
   "codemirror_mode": {
    "name": "ipython",
    "version": 3
   },
   "file_extension": ".py",
   "mimetype": "text/x-python",
   "name": "python",
   "nbconvert_exporter": "python",
   "pygments_lexer": "ipython3",
   "version": "3.10.6 (tags/v3.10.6:9c7b4bd, Aug  1 2022, 21:53:49) [MSC v.1932 64 bit (AMD64)]"
  },
  "vscode": {
   "interpreter": {
    "hash": "7344701e8efce547582b17d353805086d44d6e4bd473014779a033262912d003"
   }
  }
 },
 "nbformat": 4,
 "nbformat_minor": 5
}
